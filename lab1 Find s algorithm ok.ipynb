{
 "cells": [
  {
   "cell_type": "code",
   "execution_count": 1,
   "metadata": {
    "_cell_guid": "b1076dfc-b9ad-4769-8c92-a6c4dae69d19",
    "_uuid": "8f2839f25d086af736a60e9eeb907d3b93b6e0e5"
   },
   "outputs": [],
   "source": [
    "# This Python 3 environment comes with many helpful analytics libraries installed\n",
    "# It is defined by the kaggle/python Docker image: https://github.com/kaggle/docker-python\n",
    "# For example, here's several helpful packages to load\n",
    "\n",
    "import numpy as np # linear algebra\n",
    "import pandas as pd # data processing, CSV file I/O (e.g. pd.read_csv)\n",
    "\n",
    "# Input data files are available in the read-only \"../input/\" directory\n",
    "# For example, running this (by clicking run or pressing Shift+Enter) will list all files under the input directory\n",
    "\n",
    "import os\n",
    "for dirname, _, filenames in os.walk(r'C:\\Users\\kumar\\Desktop\\DataSet\\lab1.csv'):\n",
    "    for filename in filenames:\n",
    "        print(os.path.join(dirname, filename))\n",
    "\n",
    "# You can write up to 20GB to the current directory (/kaggle/working/) that gets preserved as output when you create a version using \"Save & Run All\" \n",
    "# You can also write temporary files to /kaggle/temp/, but they won't be saved outside of the current session"
   ]
  },
  {
   "cell_type": "code",
   "execution_count": 2,
   "metadata": {
    "execution": {
     "iopub.execute_input": "2022-01-22T06:19:56.995016Z",
     "iopub.status.busy": "2022-01-22T06:19:56.994484Z",
     "iopub.status.idle": "2022-01-22T06:19:57.021879Z",
     "shell.execute_reply": "2022-01-22T06:19:57.021284Z",
     "shell.execute_reply.started": "2022-01-22T06:19:56.994889Z"
    }
   },
   "outputs": [],
   "source": [
    "import numpy as np # linear algebra\n",
    "import pandas as pd # data processing, CSV file I/O (e.g. pd.read_csv)"
   ]
  },
  {
   "cell_type": "code",
   "execution_count": 3,
   "metadata": {
    "execution": {
     "iopub.execute_input": "2022-01-22T06:20:08.637898Z",
     "iopub.status.busy": "2022-01-22T06:20:08.637314Z",
     "iopub.status.idle": "2022-01-22T06:20:08.652043Z",
     "shell.execute_reply": "2022-01-22T06:20:08.651198Z",
     "shell.execute_reply.started": "2022-01-22T06:20:08.637852Z"
    }
   },
   "outputs": [],
   "source": [
    "\n",
    "import os\n",
    "for dirname, _, filenames in os.walk(r'C:\\Users\\kumar\\Desktop\\DataSet\\lab1.csv'):\n",
    "    for filename in filenames:\n",
    "        print(os.path.join(dirname, filename))"
   ]
  },
  {
   "cell_type": "code",
   "execution_count": 4,
   "metadata": {
    "execution": {
     "iopub.execute_input": "2022-01-22T06:21:47.257110Z",
     "iopub.status.busy": "2022-01-22T06:21:47.256345Z",
     "iopub.status.idle": "2022-01-22T06:21:47.274608Z",
     "shell.execute_reply": "2022-01-22T06:21:47.273441Z",
     "shell.execute_reply.started": "2022-01-22T06:21:47.257066Z"
    }
   },
   "outputs": [],
   "source": [
    "#import\n",
    "data = pd.read_csv(r'C:\\Users\\kumar\\Desktop\\DataSet\\lab1.csv')"
   ]
  },
  {
   "cell_type": "code",
   "execution_count": 5,
   "metadata": {
    "execution": {
     "iopub.execute_input": "2022-01-22T06:22:00.774695Z",
     "iopub.status.busy": "2022-01-22T06:22:00.773831Z",
     "iopub.status.idle": "2022-01-22T06:22:00.798551Z",
     "shell.execute_reply": "2022-01-22T06:22:00.797774Z",
     "shell.execute_reply.started": "2022-01-22T06:22:00.774651Z"
    }
   },
   "outputs": [
    {
     "data": {
      "text/html": [
       "<div>\n",
       "<style scoped>\n",
       "    .dataframe tbody tr th:only-of-type {\n",
       "        vertical-align: middle;\n",
       "    }\n",
       "\n",
       "    .dataframe tbody tr th {\n",
       "        vertical-align: top;\n",
       "    }\n",
       "\n",
       "    .dataframe thead th {\n",
       "        text-align: right;\n",
       "    }\n",
       "</style>\n",
       "<table border=\"1\" class=\"dataframe\">\n",
       "  <thead>\n",
       "    <tr style=\"text-align: right;\">\n",
       "      <th></th>\n",
       "      <th>Time</th>\n",
       "      <th>Weather</th>\n",
       "      <th>Temperature</th>\n",
       "      <th>Company</th>\n",
       "      <th>Humidity</th>\n",
       "      <th>Wind</th>\n",
       "      <th>Goes</th>\n",
       "    </tr>\n",
       "  </thead>\n",
       "  <tbody>\n",
       "    <tr>\n",
       "      <th>0</th>\n",
       "      <td>Morning</td>\n",
       "      <td>Sunny</td>\n",
       "      <td>Warm</td>\n",
       "      <td>Yes</td>\n",
       "      <td>Mild</td>\n",
       "      <td>Strong</td>\n",
       "      <td>Yes</td>\n",
       "    </tr>\n",
       "    <tr>\n",
       "      <th>1</th>\n",
       "      <td>Evening</td>\n",
       "      <td>Rainy</td>\n",
       "      <td>Cold</td>\n",
       "      <td>No</td>\n",
       "      <td>Mild</td>\n",
       "      <td>Normal</td>\n",
       "      <td>No</td>\n",
       "    </tr>\n",
       "    <tr>\n",
       "      <th>2</th>\n",
       "      <td>Morning</td>\n",
       "      <td>Sunny</td>\n",
       "      <td>Moderate</td>\n",
       "      <td>Yes</td>\n",
       "      <td>Normal</td>\n",
       "      <td>Normal</td>\n",
       "      <td>Yes</td>\n",
       "    </tr>\n",
       "    <tr>\n",
       "      <th>3</th>\n",
       "      <td>Evening</td>\n",
       "      <td>Sunny</td>\n",
       "      <td>Cold</td>\n",
       "      <td>Yes</td>\n",
       "      <td>High</td>\n",
       "      <td>Strong</td>\n",
       "      <td>Yes</td>\n",
       "    </tr>\n",
       "  </tbody>\n",
       "</table>\n",
       "</div>"
      ],
      "text/plain": [
       "      Time Weather Temperature Company Humidity    Wind Goes\n",
       "0  Morning   Sunny        Warm     Yes     Mild  Strong  Yes\n",
       "1  Evening   Rainy        Cold      No     Mild  Normal   No\n",
       "2  Morning   Sunny    Moderate     Yes   Normal  Normal  Yes\n",
       "3  Evening   Sunny        Cold     Yes     High  Strong  Yes"
      ]
     },
     "execution_count": 5,
     "metadata": {},
     "output_type": "execute_result"
    }
   ],
   "source": [
    "#The total number of training instances are :\n",
    "data.head()"
   ]
  },
  {
   "cell_type": "code",
   "execution_count": 6,
   "metadata": {
    "execution": {
     "iopub.execute_input": "2022-01-22T07:14:58.402816Z",
     "iopub.status.busy": "2022-01-22T07:14:58.402387Z",
     "iopub.status.idle": "2022-01-22T07:14:58.407922Z",
     "shell.execute_reply": "2022-01-22T07:14:58.407146Z",
     "shell.execute_reply.started": "2022-01-22T07:14:58.402785Z"
    }
   },
   "outputs": [],
   "source": [
    "#making an array of all the attributes\n",
    "a = np.array(data)\n",
    "d = np.array(data)[:,:-1]"
   ]
  },
  {
   "cell_type": "code",
   "execution_count": 7,
   "metadata": {
    "execution": {
     "iopub.execute_input": "2022-01-22T07:18:29.690004Z",
     "iopub.status.busy": "2022-01-22T07:18:29.689551Z",
     "iopub.status.idle": "2022-01-22T07:18:29.695053Z",
     "shell.execute_reply": "2022-01-22T07:18:29.693935Z",
     "shell.execute_reply.started": "2022-01-22T07:18:29.689958Z"
    }
   },
   "outputs": [
    {
     "name": "stdout",
     "output_type": "stream",
     "text": [
      "[['Morning' 'Sunny' 'Warm' 'Yes' 'Mild' 'Strong' 'Yes']\n",
      " ['Evening' 'Rainy' 'Cold' 'No' 'Mild' 'Normal' 'No']\n",
      " ['Morning' 'Sunny' 'Moderate' 'Yes' 'Normal' 'Normal' 'Yes']\n",
      " ['Evening' 'Sunny' 'Cold' 'Yes' 'High' 'Strong' 'Yes']]\n",
      "4\n"
     ]
    }
   ],
   "source": [
    "#making an array of all the attributes\n",
    "print(a)\n",
    "print(len(d))"
   ]
  },
  {
   "cell_type": "code",
   "execution_count": 8,
   "metadata": {
    "execution": {
     "iopub.execute_input": "2022-01-22T07:10:21.826321Z",
     "iopub.status.busy": "2022-01-22T07:10:21.825699Z",
     "iopub.status.idle": "2022-01-22T07:10:21.831937Z",
     "shell.execute_reply": "2022-01-22T07:10:21.831313Z",
     "shell.execute_reply.started": "2022-01-22T07:10:21.826274Z"
    }
   },
   "outputs": [
    {
     "name": "stdout",
     "output_type": "stream",
     "text": [
      "n The attributes are:  [['Morning' 'Sunny' 'Warm' 'Yes' 'Mild' 'Strong']\n",
      " ['Evening' 'Rainy' 'Cold' 'No' 'Mild' 'Normal']\n",
      " ['Morning' 'Sunny' 'Moderate' 'Yes' 'Normal' 'Normal']\n",
      " ['Evening' 'Sunny' 'Cold' 'Yes' 'High' 'Strong']]\n",
      "Number of attribute 6\n"
     ]
    }
   ],
   "source": [
    "print(\"n The attributes are: \",d )\n",
    "num_attribute = len(d[0])\n",
    "print(\"Number of attribute\", num_attribute)"
   ]
  },
  {
   "cell_type": "code",
   "execution_count": 9,
   "metadata": {
    "execution": {
     "iopub.execute_input": "2022-01-22T07:10:47.041668Z",
     "iopub.status.busy": "2022-01-22T07:10:47.041158Z",
     "iopub.status.idle": "2022-01-22T07:10:47.046361Z",
     "shell.execute_reply": "2022-01-22T07:10:47.045517Z",
     "shell.execute_reply.started": "2022-01-22T07:10:47.041634Z"
    }
   },
   "outputs": [
    {
     "name": "stdout",
     "output_type": "stream",
     "text": [
      "\n",
      "The initial hypothesis is : \n",
      "['0', '0', '0', '0', '0', '0']\n"
     ]
    }
   ],
   "source": [
    "print(\"\\nThe initial hypothesis is : \")\n",
    "hypothesis = ['0']*num_attribute\n",
    "print(hypothesis)"
   ]
  },
  {
   "cell_type": "code",
   "execution_count": 10,
   "metadata": {
    "execution": {
     "iopub.execute_input": "2022-01-22T07:11:01.262951Z",
     "iopub.status.busy": "2022-01-22T07:11:01.262427Z",
     "iopub.status.idle": "2022-01-22T07:11:01.266788Z",
     "shell.execute_reply": "2022-01-22T07:11:01.265883Z",
     "shell.execute_reply.started": "2022-01-22T07:11:01.262907Z"
    }
   },
   "outputs": [],
   "source": [
    "#segragating the target that has positive and negative examples\n",
    "target = np.array(data)[:,-1]"
   ]
  },
  {
   "cell_type": "code",
   "execution_count": 11,
   "metadata": {
    "execution": {
     "iopub.execute_input": "2022-01-22T07:11:05.248208Z",
     "iopub.status.busy": "2022-01-22T07:11:05.247952Z",
     "iopub.status.idle": "2022-01-22T07:11:05.252084Z",
     "shell.execute_reply": "2022-01-22T07:11:05.251514Z",
     "shell.execute_reply.started": "2022-01-22T07:11:05.248181Z"
    }
   },
   "outputs": [
    {
     "name": "stdout",
     "output_type": "stream",
     "text": [
      "n The target is:  ['Yes' 'No' 'Yes' 'Yes']\n"
     ]
    }
   ],
   "source": [
    "print(\"n The target is: \", target)"
   ]
  },
  {
   "cell_type": "code",
   "execution_count": 12,
   "metadata": {
    "execution": {
     "iopub.execute_input": "2022-01-22T07:19:36.387990Z",
     "iopub.status.busy": "2022-01-22T07:19:36.387679Z",
     "iopub.status.idle": "2022-01-22T07:19:36.401049Z",
     "shell.execute_reply": "2022-01-22T07:19:36.400198Z",
     "shell.execute_reply.started": "2022-01-22T07:19:36.387954Z"
    }
   },
   "outputs": [
    {
     "name": "stdout",
     "output_type": "stream",
     "text": [
      "\n",
      "Instance  1 is ['Morning' 'Sunny' 'Warm' 'Yes' 'Mild' 'Strong' 'Yes']  and is Positive Instance\n",
      "The hypothesis for the training instance 1  is:  ['Morning', 'Sunny', 'Warm', 'Yes', 'Mild', 'Strong'] \n",
      "\n",
      "\n",
      "Instance  2 is ['Evening' 'Rainy' 'Cold' 'No' 'Mild' 'Normal' 'No']  and is Negative Instance Hence Ignored\n",
      "The hypothesis for the training instance 2  is:  ['Morning', 'Sunny', 'Warm', 'Yes', 'Mild', 'Strong'] \n",
      "\n",
      "\n",
      "Instance  3 is ['Morning' 'Sunny' 'Moderate' 'Yes' 'Normal' 'Normal' 'Yes']  and is Positive Instance\n",
      "The hypothesis for the training instance 3  is:  ['Morning', 'Sunny', '?', 'Yes', '?', '?'] \n",
      "\n",
      "\n",
      "Instance  4 is ['Evening' 'Sunny' 'Cold' 'Yes' 'High' 'Strong' 'Yes']  and is Positive Instance\n",
      "The hypothesis for the training instance 4  is:  ['?', 'Sunny', '?', 'Yes', '?', '?'] \n",
      "\n",
      "\n",
      "The Maximally specific hypothesis for the training instance is  ['?', 'Sunny', '?', 'Yes', '?', '?']\n"
     ]
    }
   ],
   "source": [
    "#training function to implement find-s algorithm\n",
    "for i in range(0, len(d)):\n",
    "    if a[i][num_attribute] == 'Yes':\n",
    "        print (\"\\nInstance \", i+1, \"is\", a[i], \" and is Positive Instance\")\n",
    "        for j in range(0, num_attribute):\n",
    "            if hypothesis[j] == '0' or hypothesis[j] == a[i][j]:\n",
    "                hypothesis[j] = a[i][j]\n",
    "            else:\n",
    "                hypothesis[j] = '?'\n",
    "        print(\"The hypothesis for the training instance\", i+1, \" is: \" , hypothesis, \"\\n\")\n",
    "\n",
    "    if a[i][num_attribute] == 'No':\n",
    "        print (\"\\nInstance \", i+1, \"is\", a[i], \" and is Negative Instance Hence Ignored\")\n",
    "        print(\"The hypothesis for the training instance\", i+1, \" is: \" , hypothesis, \"\\n\")\n",
    "\n",
    "print(\"\\nThe Maximally specific hypothesis for the training instance is \", hypothesis)"
   ]
  }
 ],
 "metadata": {
  "kernelspec": {
   "display_name": "Python 3 (ipykernel)",
   "language": "python",
   "name": "python3"
  },
  "language_info": {
   "codemirror_mode": {
    "name": "ipython",
    "version": 3
   },
   "file_extension": ".py",
   "mimetype": "text/x-python",
   "name": "python",
   "nbconvert_exporter": "python",
   "pygments_lexer": "ipython3",
   "version": "3.9.13"
  }
 },
 "nbformat": 4,
 "nbformat_minor": 4
}
