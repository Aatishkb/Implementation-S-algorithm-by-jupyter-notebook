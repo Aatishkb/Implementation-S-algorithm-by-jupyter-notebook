{
 "cells": [
  {
   "cell_type": "code",
   "execution_count": 13,
   "id": "fea396d4",
   "metadata": {},
   "outputs": [],
   "source": [
    "import pandas as pd\n",
    "import numpy as np"
   ]
  },
  {
   "cell_type": "code",
   "execution_count": 14,
   "id": "cb2646bd",
   "metadata": {},
   "outputs": [],
   "source": [
    "data = pd.read_csv(r'C:\\Users\\kumar\\Desktop\\DataSet\\lab1.csv')   # path + \\fileName with Extension "
   ]
  },
  {
   "cell_type": "code",
   "execution_count": 15,
   "id": "73196143",
   "metadata": {},
   "outputs": [
    {
     "data": {
      "text/html": [
       "<div>\n",
       "<style scoped>\n",
       "    .dataframe tbody tr th:only-of-type {\n",
       "        vertical-align: middle;\n",
       "    }\n",
       "\n",
       "    .dataframe tbody tr th {\n",
       "        vertical-align: top;\n",
       "    }\n",
       "\n",
       "    .dataframe thead th {\n",
       "        text-align: right;\n",
       "    }\n",
       "</style>\n",
       "<table border=\"1\" class=\"dataframe\">\n",
       "  <thead>\n",
       "    <tr style=\"text-align: right;\">\n",
       "      <th></th>\n",
       "      <th>Time</th>\n",
       "      <th>Weather</th>\n",
       "      <th>Temperature</th>\n",
       "      <th>Company</th>\n",
       "      <th>Humidity</th>\n",
       "      <th>Wind</th>\n",
       "      <th>Goes</th>\n",
       "    </tr>\n",
       "  </thead>\n",
       "  <tbody>\n",
       "    <tr>\n",
       "      <th>0</th>\n",
       "      <td>Morning</td>\n",
       "      <td>Sunny</td>\n",
       "      <td>Warm</td>\n",
       "      <td>Yes</td>\n",
       "      <td>Mild</td>\n",
       "      <td>Strong</td>\n",
       "      <td>Yes</td>\n",
       "    </tr>\n",
       "    <tr>\n",
       "      <th>1</th>\n",
       "      <td>Evening</td>\n",
       "      <td>Rainy</td>\n",
       "      <td>Cold</td>\n",
       "      <td>No</td>\n",
       "      <td>Mild</td>\n",
       "      <td>Normal</td>\n",
       "      <td>No</td>\n",
       "    </tr>\n",
       "    <tr>\n",
       "      <th>2</th>\n",
       "      <td>Morning</td>\n",
       "      <td>Sunny</td>\n",
       "      <td>Moderate</td>\n",
       "      <td>Yes</td>\n",
       "      <td>Normal</td>\n",
       "      <td>Normal</td>\n",
       "      <td>Yes</td>\n",
       "    </tr>\n",
       "    <tr>\n",
       "      <th>3</th>\n",
       "      <td>Evening</td>\n",
       "      <td>Sunny</td>\n",
       "      <td>Cold</td>\n",
       "      <td>Yes</td>\n",
       "      <td>High</td>\n",
       "      <td>Strong</td>\n",
       "      <td>Yes</td>\n",
       "    </tr>\n",
       "  </tbody>\n",
       "</table>\n",
       "</div>"
      ],
      "text/plain": [
       "      Time Weather Temperature Company Humidity    Wind Goes\n",
       "0  Morning   Sunny        Warm     Yes     Mild  Strong  Yes\n",
       "1  Evening   Rainy        Cold      No     Mild  Normal   No\n",
       "2  Morning   Sunny    Moderate     Yes   Normal  Normal  Yes\n",
       "3  Evening   Sunny        Cold     Yes     High  Strong  Yes"
      ]
     },
     "execution_count": 15,
     "metadata": {},
     "output_type": "execute_result"
    }
   ],
   "source": [
    "data"
   ]
  },
  {
   "cell_type": "code",
   "execution_count": 16,
   "id": "54597084",
   "metadata": {},
   "outputs": [],
   "source": [
    "# table is converted into array; : means all Rows&clounm from start , :-1 means not tale last cloumn\n",
    "array = np.array(data)[:,:-1] "
   ]
  },
  {
   "cell_type": "code",
   "execution_count": 17,
   "id": "2e5d947d",
   "metadata": {},
   "outputs": [
    {
     "data": {
      "text/plain": [
       "array([['Morning', 'Sunny', 'Warm', 'Yes', 'Mild', 'Strong'],\n",
       "       ['Evening', 'Rainy', 'Cold', 'No', 'Mild', 'Normal'],\n",
       "       ['Morning', 'Sunny', 'Moderate', 'Yes', 'Normal', 'Normal'],\n",
       "       ['Evening', 'Sunny', 'Cold', 'Yes', 'High', 'Strong']],\n",
       "      dtype=object)"
      ]
     },
     "execution_count": 17,
     "metadata": {},
     "output_type": "execute_result"
    }
   ],
   "source": [
    "array  # in this array last cloumn is not present"
   ]
  },
  {
   "cell_type": "code",
   "execution_count": 18,
   "id": "10a742d9",
   "metadata": {},
   "outputs": [],
   "source": [
    "target = np.array(data)[:,-1]  \n",
    "# we have to take target(go outside or not) but s algorithm only consider +ve target\n",
    "# : print all rowCloumn but due to -1 last clounm is not considered"
   ]
  },
  {
   "cell_type": "code",
   "execution_count": 19,
   "id": "f2c0544f",
   "metadata": {},
   "outputs": [
    {
     "data": {
      "text/plain": [
       "array(['Yes', 'No', 'Yes', 'Yes'], dtype=object)"
      ]
     },
     "execution_count": 19,
     "metadata": {},
     "output_type": "execute_result"
    }
   ],
   "source": [
    "target"
   ]
  },
  {
   "cell_type": "code",
   "execution_count": 1,
   "id": "d87be6b7",
   "metadata": {},
   "outputs": [],
   "source": [
    "def train(a,t):\n",
    "    for i,val in enumerate(t):\n",
    "        if val=='Yes':\n",
    "            h=a[i].copy()\n",
    "            break\n",
    "            \n",
    "    for i,val in enumerate(a):\n",
    "                if t[i]=='Yes':\n",
    "                    for j in range(len(h)):\n",
    "                        if val[j]!=h[j]:\n",
    "                            h[j]='?'\n",
    "                        else:\n",
    "                            pass\n",
    "    return h\n",
    "        "
   ]
  },
  {
   "cell_type": "code",
   "execution_count": 21,
   "id": "917b69a5",
   "metadata": {},
   "outputs": [
    {
     "name": "stdout",
     "output_type": "stream",
     "text": [
      "['?' 'Sunny' '?' 'Yes' '?' '?']\n"
     ]
    }
   ],
   "source": [
    "print(train(array,target))"
   ]
  },
  {
   "cell_type": "code",
   "execution_count": 22,
   "id": "9f534ce0",
   "metadata": {},
   "outputs": [
    {
     "name": "stdout",
     "output_type": "stream",
     "text": [
      "The Final Hypothesis is :  ['?' 'Sunny' '?' 'Yes' '?' '?']\n"
     ]
    }
   ],
   "source": [
    "print(\"The Final Hypothesis is : \",train(array,target))"
   ]
  }
 ],
 "metadata": {
  "kernelspec": {
   "display_name": "Python 3 (ipykernel)",
   "language": "python",
   "name": "python3"
  },
  "language_info": {
   "codemirror_mode": {
    "name": "ipython",
    "version": 3
   },
   "file_extension": ".py",
   "mimetype": "text/x-python",
   "name": "python",
   "nbconvert_exporter": "python",
   "pygments_lexer": "ipython3",
   "version": "3.9.13"
  }
 },
 "nbformat": 4,
 "nbformat_minor": 5
}
